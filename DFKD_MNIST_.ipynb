{
 "cells": [
  {
   "cell_type": "code",
   "execution_count": null,
   "id": "23f73f03-0eb4-44a0-86a0-9b96a1e7ca59",
   "metadata": {
    "colab": {
     "base_uri": "https://localhost:8080/"
    },
    "id": "23f73f03-0eb4-44a0-86a0-9b96a1e7ca59",
    "outputId": "25b4a0a3-5884-4ba6-9d13-d3f909ac5642"
   },
   "outputs": [
    {
     "name": "stderr",
     "output_type": "stream",
     "text": [
      "/home/libra-04/devanand/lib/python3.10/site-packages/torchvision/models/_utils.py:208: UserWarning: The parameter 'pretrained' is deprecated since 0.13 and may be removed in the future, please use 'weights' instead.\n",
      "  warnings.warn(\n",
      "/home/libra-04/devanand/lib/python3.10/site-packages/torchvision/models/_utils.py:223: UserWarning: Arguments other than a weight enum or `None` for 'weights' are deprecated since 0.13 and may be removed in the future. The current behavior is equivalent to passing `weights=ResNet18_Weights.IMAGENET1K_V1`. You can also use `weights=ResNet18_Weights.DEFAULT` to get the most up-to-date weights.\n",
      "  warnings.warn(msg)\n"
     ]
    },
    {
     "name": "stdout",
     "output_type": "stream",
     "text": [
      "Training on cuda\n"
     ]
    },
    {
     "name": "stderr",
     "output_type": "stream",
     "text": [
      "Training: 100%|███████████████████████████████| 938/938 [00:12<00:00, 76.78it/s]\n",
      "Testing: 100%|███████████████████████████████| 157/157 [00:00<00:00, 335.61it/s]\n"
     ]
    },
    {
     "name": "stdout",
     "output_type": "stream",
     "text": [
      "Epoch 1/20:\n",
      "Train Loss: 0.1213, Train Acc: 96.32%\n",
      "Test Loss: 0.0725, Test Acc: 97.80%\n",
      "Test loss improved! Saving model...\n"
     ]
    },
    {
     "name": "stderr",
     "output_type": "stream",
     "text": [
      "Training: 100%|██████████████████████████████| 938/938 [00:07<00:00, 130.02it/s]\n",
      "Testing: 100%|███████████████████████████████| 157/157 [00:00<00:00, 364.49it/s]\n"
     ]
    },
    {
     "name": "stdout",
     "output_type": "stream",
     "text": [
      "Epoch 2/20:\n",
      "Train Loss: 0.0669, Train Acc: 98.02%\n",
      "Test Loss: 0.0384, Test Acc: 98.92%\n",
      "Test loss improved! Saving model...\n"
     ]
    },
    {
     "name": "stderr",
     "output_type": "stream",
     "text": [
      "Training: 100%|██████████████████████████████| 938/938 [00:07<00:00, 130.59it/s]\n",
      "Testing: 100%|███████████████████████████████| 157/157 [00:00<00:00, 318.55it/s]\n"
     ]
    },
    {
     "name": "stdout",
     "output_type": "stream",
     "text": [
      "Epoch 3/20:\n",
      "Train Loss: 0.0531, Train Acc: 98.39%\n",
      "Test Loss: 0.0777, Test Acc: 97.66%\n"
     ]
    },
    {
     "name": "stderr",
     "output_type": "stream",
     "text": [
      "Training: 100%|██████████████████████████████| 938/938 [00:07<00:00, 129.98it/s]\n",
      "Testing: 100%|███████████████████████████████| 157/157 [00:00<00:00, 408.40it/s]\n"
     ]
    },
    {
     "name": "stdout",
     "output_type": "stream",
     "text": [
      "Epoch 4/20:\n",
      "Train Loss: 0.0451, Train Acc: 98.65%\n",
      "Test Loss: 0.0434, Test Acc: 98.81%\n"
     ]
    },
    {
     "name": "stderr",
     "output_type": "stream",
     "text": [
      "Training: 100%|██████████████████████████████| 938/938 [00:07<00:00, 128.76it/s]\n",
      "Testing: 100%|███████████████████████████████| 157/157 [00:00<00:00, 388.62it/s]\n"
     ]
    },
    {
     "name": "stdout",
     "output_type": "stream",
     "text": [
      "Epoch 5/20:\n",
      "Train Loss: 0.0388, Train Acc: 98.81%\n",
      "Test Loss: 0.0509, Test Acc: 98.47%\n"
     ]
    },
    {
     "name": "stderr",
     "output_type": "stream",
     "text": [
      "Training: 100%|██████████████████████████████| 938/938 [00:07<00:00, 129.51it/s]\n",
      "Testing: 100%|███████████████████████████████| 157/157 [00:00<00:00, 409.43it/s]\n"
     ]
    },
    {
     "name": "stdout",
     "output_type": "stream",
     "text": [
      "Epoch 6/20:\n",
      "Train Loss: 0.0221, Train Acc: 99.33%\n",
      "Test Loss: 0.0267, Test Acc: 99.26%\n",
      "Test loss improved! Saving model...\n"
     ]
    },
    {
     "name": "stderr",
     "output_type": "stream",
     "text": [
      "Training: 100%|██████████████████████████████| 938/938 [00:07<00:00, 127.41it/s]\n",
      "Testing: 100%|███████████████████████████████| 157/157 [00:00<00:00, 420.42it/s]\n"
     ]
    },
    {
     "name": "stdout",
     "output_type": "stream",
     "text": [
      "Epoch 7/20:\n",
      "Train Loss: 0.0182, Train Acc: 99.38%\n",
      "Test Loss: 0.0253, Test Acc: 99.18%\n",
      "Test loss improved! Saving model...\n"
     ]
    },
    {
     "name": "stderr",
     "output_type": "stream",
     "text": [
      "Training: 100%|██████████████████████████████| 938/938 [00:07<00:00, 127.43it/s]\n",
      "Testing: 100%|███████████████████████████████| 157/157 [00:00<00:00, 421.92it/s]\n"
     ]
    },
    {
     "name": "stdout",
     "output_type": "stream",
     "text": [
      "Epoch 8/20:\n",
      "Train Loss: 0.0180, Train Acc: 99.42%\n",
      "Test Loss: 0.0250, Test Acc: 99.21%\n",
      "Test loss improved! Saving model...\n"
     ]
    },
    {
     "name": "stderr",
     "output_type": "stream",
     "text": [
      "Training: 100%|██████████████████████████████| 938/938 [00:07<00:00, 126.48it/s]\n",
      "Testing: 100%|███████████████████████████████| 157/157 [00:00<00:00, 411.29it/s]\n"
     ]
    },
    {
     "name": "stdout",
     "output_type": "stream",
     "text": [
      "Epoch 9/20:\n",
      "Train Loss: 0.0161, Train Acc: 99.50%\n",
      "Test Loss: 0.0285, Test Acc: 99.07%\n"
     ]
    },
    {
     "name": "stderr",
     "output_type": "stream",
     "text": [
      "Training: 100%|██████████████████████████████| 938/938 [00:07<00:00, 127.41it/s]\n",
      "Testing: 100%|███████████████████████████████| 157/157 [00:00<00:00, 409.04it/s]\n"
     ]
    },
    {
     "name": "stdout",
     "output_type": "stream",
     "text": [
      "Epoch 10/20:\n",
      "Train Loss: 0.0148, Train Acc: 99.54%\n",
      "Test Loss: 0.0319, Test Acc: 99.08%\n"
     ]
    },
    {
     "name": "stderr",
     "output_type": "stream",
     "text": [
      "Training: 100%|██████████████████████████████| 938/938 [00:07<00:00, 128.73it/s]\n",
      "Testing: 100%|███████████████████████████████| 157/157 [00:00<00:00, 388.54it/s]\n"
     ]
    },
    {
     "name": "stdout",
     "output_type": "stream",
     "text": [
      "Epoch 11/20:\n",
      "Train Loss: 0.0133, Train Acc: 99.58%\n",
      "Test Loss: 0.0313, Test Acc: 99.09%\n"
     ]
    },
    {
     "name": "stderr",
     "output_type": "stream",
     "text": [
      "Training: 100%|██████████████████████████████| 938/938 [00:07<00:00, 128.42it/s]\n",
      "Testing: 100%|███████████████████████████████| 157/157 [00:00<00:00, 361.74it/s]\n"
     ]
    },
    {
     "name": "stdout",
     "output_type": "stream",
     "text": [
      "Epoch 12/20:\n",
      "Train Loss: 0.0082, Train Acc: 99.76%\n",
      "Test Loss: 0.0286, Test Acc: 99.27%\n"
     ]
    },
    {
     "name": "stderr",
     "output_type": "stream",
     "text": [
      "Training: 100%|██████████████████████████████| 938/938 [00:07<00:00, 128.43it/s]\n",
      "Testing: 100%|███████████████████████████████| 157/157 [00:00<00:00, 376.97it/s]"
     ]
    },
    {
     "name": "stdout",
     "output_type": "stream",
     "text": [
      "Epoch 13/20:\n",
      "Train Loss: 0.0052, Train Acc: 99.84%\n",
      "Test Loss: 0.0260, Test Acc: 99.32%\n",
      "No improvement in test loss for 5 epochs. Stopping training.\n",
      "Training finished!\n",
      "Best Test Accuracy: 99.21%\n"
     ]
    },
    {
     "name": "stderr",
     "output_type": "stream",
     "text": [
      "\n"
     ]
    }
   ],
   "source": [
    "import torch\n",
    "import torch.nn as nn\n",
    "import torch.optim as optim\n",
    "import torchvision\n",
    "import torchvision.transforms as transforms\n",
    "from torch.utils.data import DataLoader, Dataset, TensorDataset, ConcatDataset\n",
    "from torchvision.models import resnet18\n",
    "import matplotlib.pyplot as plt\n",
    "import numpy as np\n",
    "from sklearn.metrics import confusion_matrix\n",
    "import seaborn as sns\n",
    "import torch.nn.functional as F\n",
    "import os\n",
    "import cv2\n",
    "from torchvision.datasets import MNIST  # Added for MNIST data\n",
    "from tqdm import tqdm\n",
    "\n",
    "# Perlin noise for training data\n",
    "!pip install noise\n",
    "import noise\n",
    "\n",
    "# Set random seed for reproducibility\n",
    "torch.manual_seed(42)\n",
    "device = torch.device(\"cuda\" if torch.cuda.is_available() else \"cpu\")\n",
    "\n",
    "# Define MNIST data transformations\n",
    "train_transform = transforms.Compose([\n",
    "    transforms.RandomHorizontalFlip(),\n",
    "    transforms.ToTensor(),\n",
    "    transforms.Normalize((0.5,), (0.5,))\n",
    "])\n",
    "\n",
    "test_transform = transforms.Compose([\n",
    "    transforms.ToTensor(),\n",
    "    transforms.Normalize((0.5,), (0.5,))\n",
    "])\n",
    "\n",
    "# Load MNIST dataset\n",
    "train_dataset = torchvision.datasets.MNIST(\n",
    "    root='./data', train=True, download=True, transform=train_transform\n",
    ")\n",
    "test_dataset = torchvision.datasets.MNIST(\n",
    "    root='./data', train=False, download=True, transform=test_transform\n",
    ")\n",
    "\n",
    "# Create data loaders\n",
    "train_loader = DataLoader(train_dataset, batch_size=64, shuffle=True, num_workers=2)\n",
    "test_loader = DataLoader(test_dataset, batch_size=64, shuffle=False, num_workers=2)\n",
    "\n",
    "# Custom ResNet model for MNIST\n",
    "class CustomResNet(nn.Module):\n",
    "    def __init__(self, num_classes=10):\n",
    "        super(CustomResNet, self).__init__()\n",
    "        self.resnet = resnet18(pretrained=True)\n",
    "        # Adjust first convolution for 1 channel (grayscale) and 3x3 kernel\n",
    "        self.resnet.conv1 = nn.Conv2d(1, 64, kernel_size=3, stride=1, padding=1, bias=False)\n",
    "        # Remove maxpool layer\n",
    "        self.resnet.maxpool = nn.Identity()\n",
    "        # Adjust final layer for MNIST classes\n",
    "        self.resnet.fc = nn.Linear(self.resnet.fc.in_features, num_classes)\n",
    "\n",
    "    def forward(self, x):\n",
    "        return self.resnet(x)\n",
    "\n",
    "# Initialize model\n",
    "model = CustomResNet(num_classes=10).to(device)\n",
    "\n",
    "# Define loss function and optimizer\n",
    "criterion = nn.CrossEntropyLoss()\n",
    "optimizer = optim.Adam(model.parameters(), lr=0.001)\n",
    "scheduler = optim.lr_scheduler.ReduceLROnPlateau(optimizer, mode='min', patience=2, factor=0.5)\n",
    "\n",
    "def train_epoch(model, train_loader, criterion, optimizer):\n",
    "    model.train()\n",
    "    running_loss = 0.0\n",
    "    correct = 0\n",
    "    total = 0\n",
    "\n",
    "    for images, labels in tqdm(train_loader, desc=\"Training\"):\n",
    "        images, labels = images.to(device), labels.to(device)\n",
    "\n",
    "        optimizer.zero_grad()\n",
    "        outputs = model(images)\n",
    "        loss = criterion(outputs, labels)\n",
    "        loss.backward()\n",
    "        optimizer.step()\n",
    "\n",
    "        running_loss += loss.item()\n",
    "        _, predicted = outputs.max(1)\n",
    "        total += labels.size(0)\n",
    "        correct += predicted.eq(labels).sum().item()\n",
    "\n",
    "    return running_loss / len(train_loader), 100. * correct / total\n",
    "\n",
    "def evaluate(model, test_loader, criterion):\n",
    "    model.eval()\n",
    "    running_loss = 0.0\n",
    "    correct = 0\n",
    "    total = 0\n",
    "\n",
    "    with torch.no_grad():\n",
    "        for images, labels in tqdm(test_loader, desc=\"Testing\"):\n",
    "            images, labels = images.to(device), labels.to(device)\n",
    "            outputs = model(images)\n",
    "            loss = criterion(outputs, labels)\n",
    "            running_loss += loss.item()\n",
    "            _, predicted = outputs.max(1)\n",
    "            total += labels.size(0)\n",
    "            correct += predicted.eq(labels).sum().item()\n",
    "\n",
    "    return running_loss / len(test_loader), 100. * correct / total\n",
    "\n",
    "# Set training configuration\n",
    "num_epochs = 20\n",
    "best_test_loss = float('inf')\n",
    "best_acc = 0.0\n",
    "patience = 5\n",
    "no_improve_count = 0\n",
    "\n",
    "print(f\"Training on {device}\")\n",
    "\n",
    "for epoch in range(num_epochs):\n",
    "    train_loss, train_acc = train_epoch(model, train_loader, criterion, optimizer)\n",
    "    test_loss, test_acc = evaluate(model, test_loader, criterion)\n",
    "\n",
    "    print(f\"Epoch {epoch+1}/{num_epochs}:\")\n",
    "    print(f\"Train Loss: {train_loss:.4f}, Train Acc: {train_acc:.2f}%\")\n",
    "    print(f\"Test Loss: {test_loss:.4f}, Test Acc: {test_acc:.2f}%\")\n",
    "\n",
    "    # Update best loss and save model if improved\n",
    "    if test_loss < best_test_loss:\n",
    "        print(\"Test loss improved! Saving model...\")\n",
    "        best_test_loss = test_loss\n",
    "        best_acc = test_acc\n",
    "        torch.save(model.state_dict(), 'BEST_RESNET18_MNIST.pth')\n",
    "        no_improve_count = 0\n",
    "    else:\n",
    "        no_improve_count += 1\n",
    "\n",
    "    # Early stopping check\n",
    "    if no_improve_count >= patience:\n",
    "        print(f\"No improvement in test loss for {patience} epochs. Stopping training.\")\n",
    "        break\n",
    "\n",
    "    # Update learning rate based on validation loss\n",
    "    scheduler.step(test_loss)\n",
    "\n",
    "print(\"Training finished!\")\n",
    "print(f\"Best Test Accuracy: {best_acc:.2f}%\")\n",
    "\n",
    "# # Fashion MNIST class labels\n",
    "# classes = ['T-shirt/top', 'Trouser', 'Pullover', 'Dress', 'Coat',\n",
    "#            'Sandal', 'Shirt', 'Sneaker', 'Bag', 'Ankle boot']\n",
    "\n",
    "def predict_image(model, image_tensor):\n",
    "    model.eval()\n",
    "    with torch.no_grad():\n",
    "        output = model(image_tensor.unsqueeze(0).to(device))\n",
    "        _, predicted = output.max(1)\n",
    "        return classes[predicted.item()]"
   ]
  },
  {
   "cell_type": "code",
   "execution_count": null,
   "id": "THXF_oBsqmvx",
   "metadata": {
    "colab": {
     "base_uri": "https://localhost:8080/"
    },
    "id": "THXF_oBsqmvx",
    "outputId": "27dfe759-bba7-4a76-aebc-b67d481b4802"
   },
   "outputs": [
    {
     "name": "stdout",
     "output_type": "stream",
     "text": [
      "Requirement already satisfied: noise in ./devanand/lib/python3.10/site-packages (1.2.2)\n",
      "\n",
      "\u001b[1m[\u001b[0m\u001b[34;49mnotice\u001b[0m\u001b[1;39;49m]\u001b[0m\u001b[39;49m A new release of pip is available: \u001b[0m\u001b[31;49m23.0.1\u001b[0m\u001b[39;49m -> \u001b[0m\u001b[32;49m25.0.1\u001b[0m\n",
      "\u001b[1m[\u001b[0m\u001b[34;49mnotice\u001b[0m\u001b[1;39;49m]\u001b[0m\u001b[39;49m To update, run: \u001b[0m\u001b[32;49mpip install --upgrade pip\u001b[0m\n"
     ]
    },
    {
     "name": "stderr",
     "output_type": "stream",
     "text": [
      "/tmp/ipykernel_6169/1679530851.py:106: FutureWarning: You are using `torch.load` with `weights_only=False` (the current default value), which uses the default pickle module implicitly. It is possible to construct malicious pickle data which will execute arbitrary code during unpickling (See https://github.com/pytorch/pytorch/blob/main/SECURITY.md#untrusted-models for more details). In a future release, the default value for `weights_only` will be flipped to `True`. This limits the functions that could be executed during unpickling. Arbitrary objects will no longer be allowed to be loaded via this mode unless they are explicitly allowlisted by the user via `torch.serialization.add_safe_globals`. We recommend you start setting `weights_only=True` for any use case where you don't have full control of the loaded file. Please open an issue on GitHub for any issues related to this experimental feature.\n",
      "  classifier.load_state_dict(torch.load(MODEL_PATH, map_location=device))\n"
     ]
    },
    {
     "name": "stdout",
     "output_type": "stream",
     "text": [
      "Loaded pre-trained classifier from BEST_RESNET18_MNIST.pth\n"
     ]
    },
    {
     "name": "stderr",
     "output_type": "stream",
     "text": [
      "100%|███████████████████████████████| 1000000/1000000 [03:31<00:00, 4724.95it/s]\n",
      "100%|████████████████████████████████████| 10000/10000 [00:26<00:00, 377.16it/s]\n"
     ]
    },
    {
     "name": "stdout",
     "output_type": "stream",
     "text": [
      "\n",
      "Prediction Distribution:\n",
      "0: 26097 (8.9%)\n",
      "1: 41994 (14.3%)\n",
      "2: 30102 (10.3%)\n",
      "3: 33635 (11.5%)\n",
      "4: 54214 (18.5%)\n",
      "5: 22676 (7.7%)\n",
      "6: 23494 (8.0%)\n",
      "7: 41852 (14.3%)\n",
      "8: 10928 (3.7%)\n",
      "9: 8065 (2.8%)\n",
      "Saved 293057 samples to synthetic_results_fmnist/\n"
     ]
    }
   ],
   "source": [
    "\n",
    "\n",
    "device = torch.device(\"cuda\" if torch.cuda.is_available() else \"cpu\")\n",
    "\n",
    "# Custom ResNet model for MNIST\n",
    "class CustomResNet(nn.Module):\n",
    "    def __init__(self, num_classes=10):\n",
    "        super(CustomResNet, self).__init__()\n",
    "        self.resnet = resnet18(pretrained=True)\n",
    "        # Adjust first convolution for 1 channel (grayscale) and 3x3 kernel\n",
    "        self.resnet.conv1 = nn.Conv2d(1, 64, kernel_size=3, stride=1, padding=1, bias=False)\n",
    "        # Remove maxpool layer\n",
    "        self.resnet.maxpool = nn.Identity()\n",
    "        # Adjust final layer for MNIST classes\n",
    "        self.resnet.fc = nn.Linear(self.resnet.fc.in_features, num_classes)\n",
    "\n",
    "    def forward(self, x):\n",
    "        return self.resnet(x)\n",
    "\n",
    "def generate_random_edges_and_lines(shape, num_lines=10):\n",
    "    \"\"\"Generates synthetic data with random edges and lines (grayscale)\"\"\"\n",
    "    height, width = shape[0], shape[1]\n",
    "    image = np.zeros((height, width, 1), dtype=np.float32)  # Single channel\n",
    "    for _ in range(num_lines):\n",
    "        x1, y1 = np.random.randint(0, width), np.random.randint(0, height)\n",
    "        x2, y2 = np.random.randint(0, width), np.random.randint(0, height)\n",
    "        thickness = np.random.randint(1, 4)\n",
    "        color = 1.0  # White line for single channel\n",
    "        cv2.line(image, (x1, y1), (x2, y2), color, thickness)\n",
    "    return image\n",
    "\n",
    "def add_uniform_noise(image, intensity=0.1):\n",
    "    noise = np.random.uniform(-intensity, intensity, image.shape).astype(np.float32)\n",
    "    return np.clip(image + noise, 0, 1)\n",
    "\n",
    "def add_normal_noise(image, mean=0, std=0.1):\n",
    "    noise = np.random.normal(mean, std, image.shape).astype(np.float32)\n",
    "    return np.clip(image + noise, 0, 1)\n",
    "\n",
    "def generate_perlin_noise(shape, scale=10):\n",
    "    \"\"\"Generate Perlin noise for 1-channel image\"\"\"\n",
    "    noise_img = np.zeros((shape[0], shape[1]), dtype=np.float32)\n",
    "    for i in range(shape[0]):\n",
    "        for j in range(shape[1]):\n",
    "            noise_img[i][j] = noise.pnoise2(i/scale,\n",
    "                                          j/scale,\n",
    "                                          octaves=6,\n",
    "                                          persistence=0.5,\n",
    "                                          lacunarity=2.0)\n",
    "    # Normalize to 0-1 and add channel dimension\n",
    "    noise_img = (noise_img - noise_img.min()) / (noise_img.max() - noise_img.min())\n",
    "    return noise_img[..., np.newaxis]\n",
    "\n",
    "def add_perlin_noise(image, scale=10, intensity=0.5):\n",
    "    perlin = generate_perlin_noise(image.shape[:2], scale)\n",
    "    return np.clip(image + intensity * perlin, 0, 1)\n",
    "\n",
    "def generate_augmented_data(shape=(28, 28, 1), num_samples=1000):\n",
    "    \"\"\"Generates augmented grayscale data\"\"\"\n",
    "    synthetic_data = np.zeros((num_samples, 1, *shape[:2]), dtype=np.float32)\n",
    "    for i in tqdm(range(num_samples)):\n",
    "        image = generate_random_edges_and_lines(shape)\n",
    "        # Apply random noise\n",
    "        noise_type = np.random.choice(['uniform', 'normal', 'perlin'])\n",
    "        if noise_type == 'uniform':\n",
    "            image = add_uniform_noise(image)\n",
    "        elif noise_type == 'normal':\n",
    "            image = add_normal_noise(image)\n",
    "        else:\n",
    "            image = add_perlin_noise(image, scale=np.random.choice([5, 10, 15]))\n",
    "        # Convert to CHW format and normalize\n",
    "        image = image.transpose(2, 0, 1)  # HWC to CHW\n",
    "        image = (image - np.mean(image)) / (np.std(image) + 1e-8)\n",
    "        synthetic_data[i] = image\n",
    "    return synthetic_data\n",
    "\n",
    "def analyze_predictions(predictions, class_names):\n",
    "    distribution = np.bincount(predictions, minlength=10)\n",
    "    print(\"\\nPrediction Distribution:\")\n",
    "    for i, count in enumerate(distribution):\n",
    "        percentage = (count / len(predictions)) * 100\n",
    "        print(f\"{class_names[i]}: {count} ({percentage:.1f}%)\")\n",
    "    return distribution\n",
    "\n",
    "if __name__ == \"__main__\":\n",
    "    # Initialize model for MNIST\n",
    "    classifier = CustomResNet().to(device)\n",
    "    MODEL_PATH = 'BEST_RESNET18_MNIST.pth'\n",
    "\n",
    "    if os.path.exists(MODEL_PATH):\n",
    "        classifier.load_state_dict(torch.load(MODEL_PATH, map_location=device))\n",
    "        print(f\"Loaded pre-trained classifier from {MODEL_PATH}\")\n",
    "    else:\n",
    "        print(\"Using randomly initialized model (no pretrained weights found)\")\n",
    "\n",
    "    # Generate synthetic data\n",
    "    num_samples = 1000000\n",
    "    synthetic_data = generate_augmented_data(shape=(28, 28, 1), num_samples=num_samples)\n",
    "    synthetic_data_tensor = torch.tensor(synthetic_data, dtype=torch.float32).to(device)\n",
    "\n",
    "    # Filtering parameters\n",
    "    batch_size = 100\n",
    "    filtered_data_list = []\n",
    "    filtered_preds_list = []\n",
    "\n",
    "    # Filter high-confidence samples\n",
    "    for i in tqdm(range(0, num_samples, batch_size)):\n",
    "        batch = synthetic_data_tensor[i:i+batch_size]\n",
    "        with torch.no_grad():\n",
    "            outputs = classifier(batch)\n",
    "            probabilities = F.softmax(outputs, dim=1)\n",
    "            max_probs, batch_predictions = torch.max(probabilities, 1)\n",
    "            # Filter samples with maximum confidence\n",
    "            mask = max_probs >= 0.995\n",
    "            if torch.any(mask):\n",
    "                filtered_data_list.append(batch[mask].cpu().numpy())\n",
    "                filtered_preds_list.append(batch_predictions[mask].cpu().numpy())\n",
    "\n",
    "    # Combine results\n",
    "    all_filtered_data = np.concatenate(filtered_data_list, axis=0) if filtered_data_list else np.array([])\n",
    "    all_filtered_preds = np.concatenate(filtered_preds_list, axis=0) if filtered_preds_list else np.array([])\n",
    "\n",
    "    # Analysis and saving\n",
    "    fmnist_classes = ['0', '1', '2', '3', '4',\n",
    "                     '5', '6', '7', '8', '9']\n",
    "\n",
    "    if len(all_filtered_preds) > 0:\n",
    "        analyze_predictions(all_filtered_preds, fmnist_classes)\n",
    "    else:\n",
    "        print(\"No high-confidence samples found\")\n",
    "\n",
    "    # Save results\n",
    "    save_dir = 'synthetic_results_fmnist'\n",
    "    os.makedirs(save_dir, exist_ok=True)\n",
    "    if len(all_filtered_data) > 0:\n",
    "        np.save(f'{save_dir}/synthetic_data.npy', all_filtered_data)\n",
    "        np.save(f'{save_dir}/predicted_classes.npy', all_filtered_preds)\n",
    "        print(f\"Saved {len(all_filtered_data)} samples to {save_dir}/\")\n",
    "    else:\n",
    "        print(\"No data to save\")"
   ]
  },
  {
   "cell_type": "code",
   "execution_count": null,
   "id": "M8b-NB7es4Ag",
   "metadata": {
    "colab": {
     "base_uri": "https://localhost:8080/",
     "height": 499
    },
    "id": "M8b-NB7es4Ag",
    "outputId": "0434e4af-a418-461f-be4b-39d23df8a6ed"
   },
   "outputs": [
    {
     "data": {
      "text/plain": [
       "(array([8065., 8065., 8065., 8065., 8065., 8065., 8065., 8065., 8065.,\n",
       "        8065.]),\n",
       " array([0. , 0.9, 1.8, 2.7, 3.6, 4.5, 5.4, 6.3, 7.2, 8.1, 9. ]),\n",
       " <BarContainer object of 10 artists>)"
      ]
     },
     "execution_count": 3,
     "metadata": {},
     "output_type": "execute_result"
    },
    {
     "data": {
      "image/png": "[encoded data removed]",
      "text/plain": [
       "<Figure size 640x480 with 1 Axes>"
      ]
     },
     "metadata": {},
     "output_type": "display_data"
    }
   ],
   "source": [
    "# Balancing the data by downsampling\n",
    "def balance_data(noise_samples, predicted_classes):\n",
    "    \"\"\"Balances the dataset by downsampling the over-represented classes.\"\"\"\n",
    "    class_counts = np.bincount(predicted_classes)\n",
    "    min_count = np.min(class_counts)\n",
    "    balanced_noise_samples = []\n",
    "    balanced_predicted_classes = []\n",
    "\n",
    "    for class_label in range(len(class_counts)):\n",
    "        # Get indices of samples belonging to the current class\n",
    "        class_indices = np.where(predicted_classes == class_label)[0]\n",
    "        # Randomly sample `min_count` indices from the class\n",
    "        sampled_indices = np.random.choice(class_indices, size=min_count, replace=False)\n",
    "        # Append the corresponding data to the balanced lists\n",
    "        balanced_noise_samples.extend(noise_samples[sampled_indices])\n",
    "        balanced_predicted_classes.extend(predicted_classes[sampled_indices])\n",
    "\n",
    "    return np.array(balanced_noise_samples), np.array(balanced_predicted_classes)\n",
    "\n",
    "balanced_noise_samples, balanced_predicted_classes = balance_data(all_filtered_data, all_filtered_preds)\n",
    "import matplotlib.pyplot as plt\n",
    "plt.hist(balanced_predicted_classes, bins=10)"
   ]
  },
  {
   "cell_type": "code",
   "execution_count": null,
   "id": "7lc90VovuaQL",
   "metadata": {
    "colab": {
     "base_uri": "https://localhost:8080/",
     "height": 681
    },
    "id": "7lc90VovuaQL",
    "outputId": "ed7a05a8-ff19-447a-b4d8-43f48f2e3a37"
   },
   "outputs": [
    {
     "name": "stderr",
     "output_type": "stream",
     "text": [
      "/home/libra-04/devanand/lib/python3.10/site-packages/torchvision/models/_utils.py:208: UserWarning: The parameter 'pretrained' is deprecated since 0.13 and may be removed in the future, please use 'weights' instead.\n",
      "  warnings.warn(\n",
      "/home/libra-04/devanand/lib/python3.10/site-packages/torchvision/models/_utils.py:223: UserWarning: Arguments other than a weight enum or `None` for 'weights' are deprecated since 0.13 and may be removed in the future. The current behavior is equivalent to passing `weights=ResNet18_Weights.IMAGENET1K_V1`. You can also use `weights=ResNet18_Weights.DEFAULT` to get the most up-to-date weights.\n",
      "  warnings.warn(msg)\n"
     ]
    },
    {
     "name": "stdout",
     "output_type": "stream",
     "text": [
      "Epoch [1/30], Train Loss: 0.3117, Train Accuracy: 89.16 %, Test Loss: 0.1876, Test Accuracy: 93.44 %\n",
      "Epoch [2/30], Train Loss: 0.1319, Train Accuracy: 95.39 %, Test Loss: 0.1234, Test Accuracy: 95.68 %\n",
      "Epoch [3/30], Train Loss: 0.0925, Train Accuracy: 96.70 %, Test Loss: 0.1445, Test Accuracy: 95.21 %\n",
      "Epoch [4/30], Train Loss: 0.0732, Train Accuracy: 97.43 %, Test Loss: 0.1068, Test Accuracy: 96.34 %\n",
      "Epoch [5/30], Train Loss: 0.0586, Train Accuracy: 97.94 %, Test Loss: 0.1180, Test Accuracy: 96.13 %\n",
      "Epoch [6/30], Train Loss: 0.0489, Train Accuracy: 98.32 %, Test Loss: 0.0938, Test Accuracy: 96.85 %\n",
      "Epoch [7/30], Train Loss: 0.0422, Train Accuracy: 98.52 %, Test Loss: 0.1014, Test Accuracy: 96.73 %\n",
      "Epoch [8/30], Train Loss: 0.0355, Train Accuracy: 98.78 %, Test Loss: 0.1141, Test Accuracy: 96.52 %\n",
      "Epoch [9/30], Train Loss: 0.0333, Train Accuracy: 98.84 %, Test Loss: 0.0885, Test Accuracy: 97.12 %\n",
      "Epoch [10/30], Train Loss: 0.0286, Train Accuracy: 99.00 %, Test Loss: 0.0980, Test Accuracy: 97.00 %\n",
      "Epoch [11/30], Train Loss: 0.0255, Train Accuracy: 99.10 %, Test Loss: 0.0768, Test Accuracy: 97.63 %\n",
      "Epoch [12/30], Train Loss: 0.0240, Train Accuracy: 99.18 %, Test Loss: 0.0742, Test Accuracy: 97.62 %\n",
      "Epoch [13/30], Train Loss: 0.0220, Train Accuracy: 99.26 %, Test Loss: 0.0905, Test Accuracy: 97.31 %\n",
      "Epoch [14/30], Train Loss: 0.0194, Train Accuracy: 99.32 %, Test Loss: 0.0665, Test Accuracy: 98.03 %\n",
      "Epoch [15/30], Train Loss: 0.0189, Train Accuracy: 99.35 %, Test Loss: 0.0703, Test Accuracy: 97.88 %\n",
      "Epoch [16/30], Train Loss: 0.0171, Train Accuracy: 99.40 %, Test Loss: 0.0771, Test Accuracy: 97.73 %\n",
      "Epoch [17/30], Train Loss: 0.0172, Train Accuracy: 99.41 %, Test Loss: 0.1035, Test Accuracy: 97.01 %\n",
      "Epoch [18/30], Train Loss: 0.0157, Train Accuracy: 99.46 %, Test Loss: 0.0874, Test Accuracy: 97.58 %\n",
      "Epoch [19/30], Train Loss: 0.0147, Train Accuracy: 99.51 %, Test Loss: 0.0744, Test Accuracy: 97.75 %\n",
      "Early stopping triggered!\n"
     ]
    },
    {
     "data": {
      "image/png": "[encoded data removed]",
      "text/plain": [
       "<Figure size 1200x500 with 2 Axes>"
      ]
     },
     "metadata": {},
     "output_type": "display_data"
    },
    {
     "name": "stdout",
     "output_type": "stream",
     "text": [
      "Best model saved to student_mnistcnn_model_best.pth\n"
     ]
    }
   ],
   "source": [
    "\n",
    "\n",
    "class CNNModel(nn.Module):\n",
    "    def __init__(self, num_classes=10):\n",
    "        super(CNNModel, self).__init__()\n",
    "        self.resnet = resnet18(pretrained=True)\n",
    "        # Adjust first convolution for 1 channel (grayscale) and 3x3 kernel\n",
    "        self.resnet.conv1 = nn.Conv2d(1, 64, kernel_size=3, stride=1, padding=1, bias=False)\n",
    "        # Remove maxpool layer\n",
    "        self.resnet.maxpool = nn.Identity()\n",
    "        # Adjust final layer for MNIST classes\n",
    "        self.resnet.fc = nn.Linear(self.resnet.fc.in_features, num_classes)\n",
    "\n",
    "    def forward(self, x):\n",
    "        return self.resnet(x)\n",
    "\n",
    "# 2. Instantiate the Model\n",
    "model = CNNModel()\n",
    "\n",
    "# 3. Device Configuration\n",
    "device = torch.device(\"cuda\" if torch.cuda.is_available() else \"cpu\")\n",
    "model = model.to(device)\n",
    "\n",
    "# 4. Hyperparameters\n",
    "num_epochs = 30  # Increased number of epochs for early stopping\n",
    "batch_size = 100\n",
    "learning_rate = 0.001\n",
    "patience = 5  # Number of epochs to wait for improvement\n",
    "\n",
    "# 5. MNIST Dataset\n",
    "transform = transforms.Compose([\n",
    "    transforms.ToTensor(),\n",
    "    transforms.Normalize((0.5,), (0.5,))\n",
    "])\n",
    "noise_samples = torch.tensor(all_filtered_data, dtype=torch.float32)\n",
    "predicted_classes = torch.tensor(all_filtered_preds, dtype=torch.long)\n",
    "# noise_samples = torch.tensor(balanced_noise_samples, dtype=torch.float32)\n",
    "# predicted_classes = torch.tensor(balanced_predicted_classes, dtype=torch.long)\n",
    "\n",
    "# Create TensorDataset for each pair of data and labels\n",
    "# dataset1 = TensorDataset(noise_samples, predicted_classes)\n",
    "# dataset2 = TensorDataset(noise_samples_, predicted_classes_)\n",
    "\n",
    "# Concatenate the datasets\n",
    "# combined_dataset = dataset1#ConcatDataset([dataset1, dataset2])\n",
    "\n",
    "# Now combined_dataset is a single dataset that contains all the samples and labels\n",
    "\n",
    "# Split into train/test\n",
    "from sklearn.model_selection import train_test_split\n",
    "X_train, X_test, y_train, y_test = train_test_split(\n",
    "    noise_samples, predicted_classes, test_size=0.2, random_state=42)#, stratify=predicted_classes)\n",
    "\n",
    "\n",
    "\n",
    "# Option 2: If you need more complex transforms, create a custom dataset class\n",
    "class CustomTensorDataset(Dataset):\n",
    "    def __init__(self, x_tensor, y_tensor, transform=None):\n",
    "        self.x = x_tensor\n",
    "        self.y = y_tensor\n",
    "        self.transform = transform\n",
    "\n",
    "    def __getitem__(self, index):\n",
    "        x = self.x[index]\n",
    "\n",
    "        if self.transform:\n",
    "            x = self.transform(x)\n",
    "\n",
    "        return x, self.y[index]\n",
    "\n",
    "    def __len__(self):\n",
    "        return len(self.x)\n",
    "\n",
    "# Define your transforms\n",
    "transform = transforms.Compose([\n",
    "    transforms.Normalize((0.5,), (0.5,))\n",
    "])\n",
    "\n",
    "# Create datasets with custom class\n",
    "train_dataset = CustomTensorDataset(X_train, y_train)#, transform=transform)\n",
    "test_dataset = CustomTensorDataset(X_test, y_test)\n",
    "\n",
    "# train_dataset = datasets.FashionMNIST(root='./data', train=True, transform=transform, download=True)\n",
    "# test_dataset = datasets.FashionMNIST(root='./data', train=False, transform=transform)\n",
    "\n",
    "train_loader = DataLoader(dataset=train_dataset, batch_size=batch_size, shuffle=True)\n",
    "test_loader = DataLoader(dataset=test_dataset, batch_size=batch_size, shuffle=False)\n",
    "\n",
    "# 6. Loss Function and Optimizer\n",
    "criterion = nn.CrossEntropyLoss()\n",
    "optimizer = optim.Adam(model.parameters(), lr=learning_rate)\n",
    "\n",
    "# 7. Training Loop with Tracking and Early Stopping\n",
    "train_losses = []\n",
    "test_losses = []\n",
    "train_accuracies = []\n",
    "test_accuracies = []\n",
    "\n",
    "best_test_loss = float('inf')  # Initialize with a very high value\n",
    "epochs_no_improve = 0\n",
    "best_model_state = None # Store the best model\n",
    "\n",
    "for epoch in range(num_epochs):\n",
    "    # Training\n",
    "    model.train()  # Set the model to training mode\n",
    "    train_loss = 0.0\n",
    "    correct_train = 0\n",
    "    total_train = 0\n",
    "    for i, (images, labels) in enumerate(train_loader):\n",
    "        images = images.to(device)\n",
    "        labels = labels.to(device)\n",
    "\n",
    "        # Forward pass\n",
    "        outputs = model(images)\n",
    "        loss = criterion(outputs, labels)\n",
    "\n",
    "        # Backward and optimize\n",
    "        optimizer.zero_grad()\n",
    "        loss.backward()\n",
    "        optimizer.step()\n",
    "\n",
    "        train_loss += loss.item()\n",
    "\n",
    "        _, predicted = torch.max(outputs.data, 1)\n",
    "        total_train += labels.size(0)\n",
    "        correct_train += (predicted == labels).sum().item()\n",
    "\n",
    "    train_loss /= len(train_loader)\n",
    "    train_accuracy = 100 * correct_train / total_train\n",
    "    train_losses.append(train_loss)\n",
    "    train_accuracies.append(train_accuracy)\n",
    "\n",
    "    # Testing\n",
    "    model.eval()  # Set the model to evaluation mode\n",
    "    test_loss = 0.0\n",
    "    correct_test = 0\n",
    "    total_test = 0\n",
    "    with torch.no_grad():\n",
    "        for images, labels in test_loader:\n",
    "            images = images.to(device)\n",
    "            labels = labels.to(device)\n",
    "            outputs = model(images)\n",
    "            loss = criterion(outputs, labels)\n",
    "\n",
    "            test_loss += loss.item()\n",
    "\n",
    "            _, predicted = torch.max(outputs.data, 1)\n",
    "            total_test += labels.size(0)\n",
    "            correct_test += (predicted == labels).sum().item()\n",
    "\n",
    "    test_loss /= len(test_loader)\n",
    "    test_accuracy = 100 * correct_test / total_test\n",
    "    test_losses.append(test_loss)\n",
    "    test_accuracies.append(test_accuracy)\n",
    "\n",
    "    print('Epoch [{}/{}], Train Loss: {:.4f}, Train Accuracy: {:.2f} %, Test Loss: {:.4f}, Test Accuracy: {:.2f} %'\n",
    "          .format(epoch + 1, num_epochs, train_loss, train_accuracy, test_loss, test_accuracy))\n",
    "\n",
    "    # Early Stopping Check\n",
    "    if test_loss < best_test_loss:\n",
    "        best_test_loss = test_loss\n",
    "        epochs_no_improve = 0\n",
    "        best_model_state = model.state_dict() # Save the best model so far\n",
    "    else:\n",
    "        epochs_no_improve += 1\n",
    "        if epochs_no_improve == patience:\n",
    "            print(\"Early stopping triggered!\")\n",
    "            break  # Exit the training loop\n",
    "\n",
    "# 8. Plotting the Results\n",
    "plt.figure(figsize=(12, 5))\n",
    "\n",
    "# Plotting Loss\n",
    "plt.subplot(1, 2, 1)\n",
    "plt.plot(train_losses, label='Train Loss')\n",
    "plt.plot(test_losses, label='Test Loss')\n",
    "plt.xlabel('Epoch')\n",
    "plt.ylabel('Loss')\n",
    "plt.title('Loss vs. Epoch')\n",
    "plt.legend()\n",
    "\n",
    "# Plotting Accuracy\n",
    "plt.subplot(1, 2, 2)\n",
    "plt.plot(train_accuracies, label='Train Accuracy')\n",
    "plt.plot(test_accuracies, label='Test Accuracy')\n",
    "plt.xlabel('Epoch')\n",
    "plt.ylabel('Accuracy (%)')\n",
    "plt.title('Accuracy vs. Epoch')\n",
    "plt.legend()\n",
    "\n",
    "plt.tight_layout()\n",
    "plt.show()\n",
    "\n",
    "# 9. Save the Best Model\n",
    "if best_model_state is not None:\n",
    "    torch.save(best_model_state, 'student_mnistcnn_model_best.pth') # Save the state dict of the best model\n",
    "    print(\"Best model saved to student_mnistcnn_model_best.pth\")\n",
    "else:\n",
    "    print(\"No improvement during training, saving last model state\")\n",
    "    torch.save(model.state_dict(), 'student_mnistcnn_model_best.pth') # save final model if there was no improvement."
   ]
  },
  {
   "cell_type": "code",
   "execution_count": null,
   "id": "l3d3AGcwwOXP",
   "metadata": {
    "colab": {
     "base_uri": "https://localhost:8080/",
     "height": 790
    },
    "id": "l3d3AGcwwOXP",
    "outputId": "64a424a1-da76-451c-a961-3aac5b01a385"
   },
   "outputs": [
    {
     "name": "stderr",
     "output_type": "stream",
     "text": [
      "/home/libra-04/devanand/lib/python3.10/site-packages/torchvision/models/_utils.py:208: UserWarning: The parameter 'pretrained' is deprecated since 0.13 and may be removed in the future, please use 'weights' instead.\n",
      "  warnings.warn(\n",
      "/home/libra-04/devanand/lib/python3.10/site-packages/torchvision/models/_utils.py:223: UserWarning: Arguments other than a weight enum or `None` for 'weights' are deprecated since 0.13 and may be removed in the future. The current behavior is equivalent to passing `weights=ResNet18_Weights.IMAGENET1K_V1`. You can also use `weights=ResNet18_Weights.DEFAULT` to get the most up-to-date weights.\n",
      "  warnings.warn(msg)\n",
      "/tmp/ipykernel_6169/2134378770.py:34: FutureWarning: You are using `torch.load` with `weights_only=False` (the current default value), which uses the default pickle module implicitly. It is possible to construct malicious pickle data which will execute arbitrary code during unpickling (See https://github.com/pytorch/pytorch/blob/main/SECURITY.md#untrusted-models for more details). In a future release, the default value for `weights_only` will be flipped to `True`. This limits the functions that could be executed during unpickling. Arbitrary objects will no longer be allowed to be loaded via this mode unless they are explicitly allowlisted by the user via `torch.serialization.add_safe_globals`. We recommend you start setting `weights_only=True` for any use case where you don't have full control of the loaded file. Please open an issue on GitHub for any issues related to this experimental feature.\n",
      "  student_model.load_state_dict(torch.load('student_mnistcnn_model_best.pth', map_location=device))\n"
     ]
    },
    {
     "name": "stdout",
     "output_type": "stream",
     "text": [
      "Accuracy of the student model on the MNIST test images: 95.77%\n"
     ]
    },
    {
     "data": {
      "image/png": "[encoded data removed]",
      "text/plain": [
       "<Figure size 1000x800 with 2 Axes>"
      ]
     },
     "metadata": {},
     "output_type": "display_data"
    }
   ],
   "source": [
    "\n",
    "class CNNModel(nn.Module):\n",
    "    def __init__(self, num_classes=10):\n",
    "        super(CNNModel, self).__init__()\n",
    "        self.resnet = resnet18(pretrained=True)\n",
    "        # Adjust first convolution for 1 channel (grayscale) and 3x3 kernel\n",
    "        self.resnet.conv1 = nn.Conv2d(1, 64, kernel_size=3, stride=1, padding=1, bias=False)\n",
    "        # Remove maxpool layer\n",
    "        self.resnet.maxpool = nn.Identity()\n",
    "        # Adjust final layer for MNIST classes\n",
    "        self.resnet.fc = nn.Linear(self.resnet.fc.in_features, num_classes)\n",
    "\n",
    "    def forward(self, x):\n",
    "        return self.resnet(x)\n",
    "\n",
    "\n",
    "def count_parameters(model):\n",
    "    return sum(p.numel() for p in model.parameters() if p.requires_grad)\n",
    "\n",
    "\n",
    "# Load the trained student model\n",
    "student_model = CNNModel()\n",
    "device = torch.device(\"cuda\" if torch.cuda.is_available() else \"cpu\")\n",
    "student_model = student_model.to(device)\n",
    "student_model.load_state_dict(torch.load('student_mnistcnn_model_best.pth', map_location=device))\n",
    "\n",
    "student_model.eval()\n",
    "student_params = count_parameters(student_model)\n",
    "\n",
    "# Load MNIST test data\n",
    "transform = transforms.Compose([transforms.ToTensor(), transforms.Normalize((0.5,), (0.5,))])\n",
    "test_dataset = torchvision.datasets.MNIST(root='./data', train=False, download=True, transform=transform)\n",
    "test_loader = DataLoader(test_dataset, batch_size=32, shuffle=False)\n",
    "\n",
    "# Evaluate the student model\n",
    "correct = 0\n",
    "total = 0\n",
    "all_predicted = []\n",
    "all_labels = []\n",
    "with torch.no_grad():\n",
    "    for images, labels in test_loader:\n",
    "        images = images.to(device)\n",
    "        labels = labels.to(device)\n",
    "        outputs = student_model(images)\n",
    "        _, predicted = torch.max(outputs.data, 1)\n",
    "        total += labels.size(0)\n",
    "        correct += (predicted == labels).sum().item()\n",
    "        all_predicted.extend(predicted.cpu().numpy())\n",
    "        all_labels.extend(labels.cpu().numpy())\n",
    "\n",
    "accuracy = 100 * correct / total\n",
    "print(f'Accuracy of the student model on the MNIST test images: {accuracy:.2f}%')\n",
    "\n",
    "# Compute confusion matrix\n",
    "confusion_mat = confusion_matrix(all_labels, all_predicted)\n",
    "\n",
    "# Normalize the confusion matrix\n",
    "confusion_mat_normalized = confusion_mat.astype('float') / confusion_mat.sum(axis=1)[:, np.newaxis]\n",
    "class_names = ['0', '1', '2', '3', '4',\n",
    "                     '5', '6', '7', '8', '9']\n",
    "# Plot normalized confusion matrix\n",
    "plt.figure(figsize=(10, 8))\n",
    "sns.heatmap(confusion_mat_normalized, annot=True, fmt=\".2f\", cmap=\"Blues\", vmin=0, vmax=1, xticklabels=class_names, yticklabels=class_names)\n",
    "plt.xlabel(\"Predicted Label\")\n",
    "plt.ylabel(\"True Label\")\n",
    "plt.title(\"Normalized Confusion Matrix - Student Model on MNIST\")\n",
    "plt.show()"
   ]
  }
 ],
 "metadata": {
  "accelerator": "GPU",
  "colab": {
   "gpuType": "A100",
   "machine_shape": "hm",
   "provenance": []
  },
  "kernelspec": {
   "display_name": "Python [conda env:base] *",
   "language": "python",
   "name": "conda-base-py"
  },
  "language_info": {
   "codemirror_mode": {
    "name": "ipython",
    "version": 3
   },
   "file_extension": ".py",
   "mimetype": "text/x-python",
   "name": "python",
   "nbconvert_exporter": "python",
   "pygments_lexer": "ipython3",
   "version": "3.12.7"
  }
 },
 "nbformat": 4,
 "nbformat_minor": 5
}
